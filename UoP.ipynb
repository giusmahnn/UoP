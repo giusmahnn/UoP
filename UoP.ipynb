{
 "cells": [
  {
   "cell_type": "code",
   "execution_count": 1,
   "metadata": {},
   "outputs": [
    {
     "name": "stdout",
     "output_type": "stream",
     "text": [
      "-3\n",
      "-2\n",
      "-1\n",
      "Blastoff!\n"
     ]
    }
   ],
   "source": [
    "def countup(n): \n",
    "     if n == 0: \n",
    "          print('Blastoff!') \n",
    "     else: \n",
    "          print(n) \n",
    "          countup(n+1)\n",
    "countup(-3)"
   ]
  },
  {
   "cell_type": "code",
   "execution_count": 9,
   "metadata": {},
   "outputs": [
    {
     "name": "stdout",
     "output_type": "stream",
     "text": [
      "Nooo I am stuck, you fed me a value of zero\n"
     ]
    }
   ],
   "source": [
    "def countdown(n):\n",
    "    if n <= 0:\n",
    "        print('Blastoff!')\n",
    "    else:\n",
    "        print(n)\n",
    "        countdown(n - 1)\n",
    "\n",
    "def countup(n):\n",
    "    if n >= 0:\n",
    "        print('Blastoff!')\n",
    "    else:\n",
    "        print(n)\n",
    "        countup(n + 1)\n",
    "\n",
    "# Get a number from the user\n",
    "num = int(input(\"Enter a number: \"))\n",
    "\n",
    "# Decide which function to call based on the input number\n",
    "if num > 0:\n",
    "    print('This is a positive number')\n",
    "    countdown(num)\n",
    "elif num < 0:\n",
    "    print('This is a negative number')\n",
    "    countup(num)\n",
    "elif num == 0:\n",
    "    print(\"Nooo I am stuck, you fed me a value of zero\")\n",
    "else:\n",
    "    print(\"Blastoff!\")\n"
   ]
  },
  {
   "cell_type": "code",
   "execution_count": 6,
   "metadata": {},
   "outputs": [
    {
     "name": "stdout",
     "output_type": "stream",
     "text": [
      "Error: Division by Zero(0) is not allowed\n"
     ]
    }
   ],
   "source": [
    "def division(num1,num2):\n",
    "    try:\n",
    "        result = num1 / num2\n",
    "    except ZeroDivisionError:\n",
    "        print('Error: Division by Zero(0) is not allowed')\n",
    "        result = None\n",
    "    return result\n",
    "\n",
    "num1 = int(input('Enter a number: '))  # 89\n",
    "num2 = int(input('Enter another number: ')) # 0\n",
    "\n",
    "result = division(num1, num2)\n",
    "if result is not None:\n",
    "    print('result', result)"
   ]
  },
  {
   "cell_type": "code",
   "execution_count": 2,
   "metadata": {},
   "outputs": [
    {
     "name": "stdout",
     "output_type": "stream",
     "text": [
      "Input number must be non-negative!\n"
     ]
    }
   ],
   "source": [
    "# precondition\n",
    "\n",
    "def square_root(number):\n",
    "  if number < 0:\n",
    "    raise ValueError(\"Input number must be non-negative!\")\n",
    "  return number ** 0.5\n",
    "\n",
    "# Running with a negative number:\n",
    "try:\n",
    "  result = square_root(-9)\n",
    "except ValueError as e:\n",
    "  print(e)  # Output: ValueError: Input number must be non-negative!\n"
   ]
  },
  {
   "cell_type": "code",
   "execution_count": 4,
   "metadata": {},
   "outputs": [
    {
     "name": "stdout",
     "output_type": "stream",
     "text": [
      "20\n"
     ]
    }
   ],
   "source": [
    "# Postcondition\n",
    "def rectangle_area(height, width):\n",
    "  return height * width  # Should be height + width\n",
    "\n",
    "# Running with valid dimensions:\n",
    "result = rectangle_area(5, 4)\n",
    "print(result)  # Output: 20 (incorrect due to the typo)\n"
   ]
  },
  {
   "cell_type": "code",
   "execution_count": 5,
   "metadata": {},
   "outputs": [
    {
     "name": "stdout",
     "output_type": "stream",
     "text": [
      "Result: 55\n"
     ]
    }
   ],
   "source": [
    "# Return Value\n",
    "def double(x):\n",
    "    return 2 * x\n",
    "\n",
    "# Example Usage - Return Value or Usage Error\n",
    "result = double(\"5\")  # Passing a string instead of a number\n",
    "print(\"Result:\", result)\n"
   ]
  },
  {
   "cell_type": "code",
   "execution_count": 1,
   "metadata": {},
   "outputs": [
    {
     "data": {
      "text/plain": [
       "0.0"
      ]
     },
     "execution_count": 1,
     "metadata": {},
     "output_type": "execute_result"
    }
   ],
   "source": [
    "# Incremental development on the length on a hypotenuse\n",
    "\n",
    "def hypotenuse(opposite, adjacent): # defined a functioned named hypotenuse and assigned 2 parameters\n",
    "    return 0.0  # attached a value to the return statement\n",
    "hypotenuse(3,4)  # we test our function with sample arguements"
   ]
  },
  {
   "cell_type": "code",
   "execution_count": 17,
   "metadata": {},
   "outputs": [
    {
     "name": "stdout",
     "output_type": "stream",
     "text": [
      "oppossite is 3\n",
      "adjacent is  4\n"
     ]
    },
    {
     "data": {
      "text/plain": [
       "0.0"
      ]
     },
     "execution_count": 17,
     "metadata": {},
     "output_type": "execute_result"
    }
   ],
   "source": [
    "import math\n",
    "def hypotenuse(opposite, adjacent):\n",
    "    \"\"\"In this step, I stored values in the temporary variables and printed them\n",
    "        I also imported a math module\n",
    "    \"\"\"\n",
    "    opp = opposite\n",
    "    adj = adjacent\n",
    "    print('oppossite is' , opp)\n",
    "    print('adjacent is ', adj)\n",
    "    return 0.0\n",
    "\n",
    "hypotenuse(3, 4)"
   ]
  },
  {
   "cell_type": "code",
   "execution_count": 11,
   "metadata": {},
   "outputs": [
    {
     "name": "stdout",
     "output_type": "stream",
     "text": [
      "oppossite is 9\n",
      "adjacent is  16\n"
     ]
    },
    {
     "data": {
      "text/plain": [
       "0.0"
      ]
     },
     "execution_count": 11,
     "metadata": {},
     "output_type": "execute_result"
    }
   ],
   "source": [
    "import math\n",
    "def hypotenuse(opposite, adjacent):\n",
    "    opp = opposite ** 2 # I squared both the opposite and adjacent and printed the new value\n",
    "    adj = adjacent ** 2\n",
    "    print('oppossite is' , opp)\n",
    "    print('adjacent is ', adj)\n",
    "    return 0.0\n",
    "\n",
    "hypotenuse(3, 4)"
   ]
  },
  {
   "cell_type": "code",
   "execution_count": 13,
   "metadata": {},
   "outputs": [
    {
     "name": "stdout",
     "output_type": "stream",
     "text": [
      "The sum of oppsite and adjacent is  25\n"
     ]
    },
    {
     "data": {
      "text/plain": [
       "0.0"
      ]
     },
     "execution_count": 13,
     "metadata": {},
     "output_type": "execute_result"
    }
   ],
   "source": [
    "import math\n",
    "def hypotenuse(opposite, adjacent):\n",
    "    opp = opposite ** 2\n",
    "    adj = adjacent ** 2\n",
    "    add = opp + adj # I added the opp and adj variables together and printed the value\n",
    "    print('The sum of oppsite and adjacent is ', add)\n",
    "    return 0.0\n",
    "hypotenuse(3,4)"
   ]
  },
  {
   "cell_type": "code",
   "execution_count": 20,
   "metadata": {},
   "outputs": [],
   "source": [
    "# Final Development\n",
    "import math\n",
    "def hypotenuse(opposite, adjacent):\n",
    "    opp = opposite ** 2\n",
    "    adj = adjacent ** 2\n",
    "    add = opp + adj\n",
    "    result = math.sqrt(add)\n",
    "    return result\n",
    "\n",
    "hypotenuse(3, 4)"
   ]
  },
  {
   "cell_type": "code",
   "execution_count": 1,
   "metadata": {},
   "outputs": [],
   "source": [
    "import random\n",
    "import string\n",
    "\n",
    "def generate_password_characters():\n",
    "    \"\"\"Generate random password characters.\"\"\"\n",
    "    alphabets = string.ascii_lowercase\n",
    "    alpha = string.ascii_uppercase\n",
    "    numbers = string.digits\n",
    "    symbols = string.punctuation\n",
    "\n",
    "    characters = alphabets + alpha + numbers + symbols\n",
    "    return characters\n",
    "\n",
    "def get_password_length():\n",
    "    \"\"\"Get the password length from the user.\"\"\"\n",
    "    while True:\n",
    "        try:\n",
    "            length = int(input('Enter password length: '))\n",
    "            if length <= 0:\n",
    "                print(\"Password length must be a positive integer.\")\n",
    "            else:\n",
    "                return length\n",
    "        except ValueError:\n",
    "            print(\"Invalid input. Please enter a valid integer.\")\n",
    "\n",
    "def generate_password(length, characters):\n",
    "    \"\"\"Generate a random password of the specified length.\"\"\"\n",
    "    password = ''.join(random.choice(characters) for _ in range(length))\n",
    "    return password\n",
    "\n",
    "def main():\n",
    "    characters = generate_password_characters()\n",
    "    length = get_password_length()\n",
    "    password = generate_password(length, characters)\n",
    "    print(\"Generated Password:\", password)\n",
    "\n",
    "if __name__ == \"__main__\":\n",
    "    main()\n",
    "\n"
   ]
  },
  {
   "cell_type": "code",
   "execution_count": 2,
   "metadata": {},
   "outputs": [],
   "source": [
    "# 1\n",
    "\n",
    "def any_lowercase1(s):     # This function checks if the first letter is lower or not\n",
    "     for c in s:\n",
    "          if c.islower():\n",
    "               return True\n",
    "          else:\n",
    "               return False\n",
    "\n",
    "\n",
    "# 2\n",
    "\n",
    "def any_lowercase2(s):      # The function checks if the character c is lower in the string\n",
    "     for c in s:\n",
    "          if 'c'.islower():\n",
    "               return 'True'\n",
    "          else:\n",
    "               return 'False'\n",
    "\n",
    "\n",
    "# 3\n",
    "\n",
    "def any_lowercase3(s):        # The function iterates through and returns the value of the last letter\n",
    "     for c in s:\n",
    "          flag = c.islower()\n",
    "     return flag\n",
    "\n",
    "\n",
    "# 4\n",
    "\n",
    "def any_lowercase4(s):        # The iterates through each string to check if any character is a lowercase\n",
    "     flag = False\n",
    "     for c in s:\n",
    "          flag = flag or c.islower()\n",
    "     return flag\n",
    "\n",
    "# 5\n",
    "\n",
    "def any_lowercase5(s):        # The function returns true if the sring is all lower, returns false if not\n",
    "     for c in s:\n",
    "          if not c.islower():\n",
    "               return False\n",
    "     return True"
   ]
  },
  {
   "cell_type": "code",
   "execution_count": 26,
   "metadata": {},
   "outputs": [
    {
     "data": {
      "text/plain": [
       "'HELLO WORLD'"
      ]
     },
     "execution_count": 26,
     "metadata": {},
     "output_type": "execute_result"
    }
   ],
   "source": [
    "def upper_case(string):\n",
    "    uppercase_string = string.upper()\n",
    "    return uppercase_string\n",
    "\n",
    "upper_case(\"hello world\")"
   ]
  },
  {
   "cell_type": "code",
   "execution_count": 1,
   "metadata": {},
   "outputs": [
    {
     "name": "stdout",
     "output_type": "stream",
     "text": [
      "First 7 characters from the left: remigiu\n",
      "Number of vowels in the name: 4\n",
      "Reversed name: suigimer\n"
     ]
    }
   ],
   "source": [
    "def main():\n",
    "    name = input(\"Enter your name: \")\n",
    "    #n = len(name)\n",
    "    n = int(input(\"Enter the number of characters to display from the left: \"))\n",
    "    \n",
    "    # Display n characters from left\n",
    "    print(f\"First {n} characters from the left: {name[:n]}\")\n",
    "    \n",
    "    # Count the number of vowels\n",
    "    vowels = 'aeiouAEIOU'\n",
    "    vowel_count = sum(1 for char in name if char in vowels)\n",
    "    print(f\"Number of vowels in the name: {vowel_count}\")\n",
    "    \n",
    "    # Reverse the name\n",
    "    reversed_name = name[::-1]\n",
    "    print(f\"Reversed name: {reversed_name}\")\n",
    "\n",
    "if __name__ == \"__main__\":\n",
    "    main()\n"
   ]
  },
  {
   "cell_type": "code",
   "execution_count": null,
   "metadata": {},
   "outputs": [],
   "source": [
    "names = ['Remi', 'Okiki', 'Thelma', 'Caro', 'Chizzy', 'Nelly', 'Esther', 'David', 'Emmanuel', 'Blessing']\n",
    "sublist1 = ['Remi',  'Okiki', 'Thelma', 'Caro', 'Chizzy']\n",
    "sublist2 = ['Nelly', 'Esther', 'David', 'Emmanuel', 'Blessing']\n",
    "sublist2.append('Kriti Brown')\n",
    "print(sublist2)"
   ]
  },
  {
   "cell_type": "code",
   "execution_count": null,
   "metadata": {},
   "outputs": [],
   "source": [
    "sublist1.pop(1)\n",
    "print(sublist1)"
   ]
  },
  {
   "cell_type": "code",
   "execution_count": null,
   "metadata": {},
   "outputs": [],
   "source": [
    "sublist1.extend(sublist2)\n",
    "print(sublist1)"
   ]
  },
  {
   "cell_type": "code",
   "execution_count": null,
   "metadata": {},
   "outputs": [],
   "source": [
    "from tabulate import tabulate\n",
    "\n",
    "SalaryList = [10, 20, 30, 40, 50, 60, 70, 80, 90, 100]\n",
    "\n",
    "# Percentage increase\n",
    "percentage = [((i * 4) / 100) for i in SalaryList]\n",
    "\n",
    "# Update each salary by increasing it by 4%\n",
    "SalaryList_updated = [(i + (i * 4) / 100) for i in SalaryList]\n",
    "\n",
    "# Sort the SalaryList in descending order\n",
    "sorted_salaries = sorted(SalaryList_updated, reverse=True)\n",
    "\n",
    "# Get the top 3 salaries\n",
    "top_3_salaries = sorted_salaries[:3]\n",
    "\n",
    "# Create a list of tuples for tabulate\n",
    "table_data = list(zip(SalaryList, percentage, SalaryList_updated))\n",
    "\n",
    "# Create headers for the table\n",
    "headers = [\"Original Salary\", \"percentage Increase\", \"Updated Salary\"]\n",
    "\n",
    "# Print the table\n",
    "print(tabulate(table_data, headers=headers, tablefmt=\"pretty\"))\n",
    "\n",
    "# Print the top 3 salaries\n",
    "print(\"Top 3 Salaries:\", top_3_salaries)"
   ]
  },
  {
   "cell_type": "code",
   "execution_count": null,
   "metadata": {},
   "outputs": [],
   "source": [
    "def reverse_sentence(sentence):\n",
    "    # Split the sentence into words\n",
    "    word_list = sentence.split()\n",
    "    \n",
    "    # Reverse the word list\n",
    "    reversed_word_list = list(reversed(word_list))\n",
    "    \n",
    "    return reversed_word_list\n",
    "\n",
    "# Input sentence\n",
    "sentence = input(\"Enter a sentence\")\n",
    "\n",
    "# Convert the sentence into a word list and reverse it\n",
    "reversed_word_list = reverse_sentence(sentence)\n",
    "\n",
    "# Print the reversed word list\n",
    "print(\"Your sentence\\n\", sentence)\n",
    "print(\"Reversed Word List:\\n\", reversed_word_list)"
   ]
  },
  {
   "cell_type": "code",
   "execution_count": 1,
   "metadata": {},
   "outputs": [
    {
     "name": "stdout",
     "output_type": "stream",
     "text": [
      "Alice's score is 85\n",
      "Bob's score is 90\n",
      "Charlie's score is 75\n"
     ]
    }
   ],
   "source": [
    "# Suppose we have a list of tuples containing student names and their corresponding scores\n",
    "students = [(\"Alice\", 85), (\"Bob\", 90), (\"Charlie\", 75)]\n",
    "\n",
    "# We can iterate over the list of tuples and print each student's name and score\n",
    "for student in students:\n",
    "    name, score = student  # Unpack the tuple into individual variables\n",
    "    print(f\"{name}'s score is {score}\")\n"
   ]
  },
  {
   "cell_type": "code",
   "execution_count": 2,
   "metadata": {},
   "outputs": [
    {
     "name": "stdout",
     "output_type": "stream",
     "text": [
      "Alice's score is 85\n",
      "Bob's score is 90\n",
      "Charlie's score is 75\n"
     ]
    }
   ],
   "source": [
    "# Suppose we have a dictionary containing student names as keys and their corresponding scores as values\n",
    "student_scores = {\"Alice\": 85, \"Bob\": 90, \"Charlie\": 75}\n",
    "\n",
    "# We can use the items() method to iterate over key-value pairs (tuples) in the dictionary\n",
    "for name, score in student_scores.items():\n",
    "    print(f\"{name}'s score is {score}\")\n"
   ]
  },
  {
   "cell_type": "code",
   "execution_count": 4,
   "metadata": {},
   "outputs": [
    {
     "name": "stdout",
     "output_type": "stream",
     "text": [
      "(1, 2, 2, 3)\n"
     ]
    }
   ],
   "source": [
    "my_tup = (3, 2, 1, 2)\n",
    "print(tuple(sorted(my_tup)))"
   ]
  },
  {
   "cell_type": "code",
   "execution_count": 1,
   "metadata": {},
   "outputs": [
    {
     "name": "stdout",
     "output_type": "stream",
     "text": [
      "Original Dictionary:\n",
      "{'Stud1': ['CS1101', 'CS2402', 'CS2001'], 'Stud2': ['CS2402', 'CS2001', 'CS1102']}\n",
      "\n",
      "Inverted Dictionary:\n",
      "{'CS1101': ['Stud1'], 'CS2402': ['Stud1', 'Stud2'], 'CS2001': ['Stud1', 'Stud2'], 'CS1102': ['Stud2']}\n"
     ]
    }
   ],
   "source": [
    "def invert_dictionary(input_dict):\n",
    "    inverted_dict = {}\n",
    "    for student, courses in input_dict.items():\n",
    "        for course in courses:\n",
    "            if course not in inverted_dict:\n",
    "                inverted_dict[course] = [student]\n",
    "            else:\n",
    "                inverted_dict[course].append(student)\n",
    "    return inverted_dict\n",
    "\n",
    "# Sample input dictionary\n",
    "input_dict = {\n",
    "    'Stud1': ['CS1101', 'CS2402', 'CS2001'],\n",
    "    'Stud2': ['CS2402', 'CS2001', 'CS1102']\n",
    "}\n",
    "\n",
    "# Print the original dictionary\n",
    "print(\"Original Dictionary:\")\n",
    "print(input_dict)\n",
    "\n",
    "# Invert the dictionary\n",
    "inverted_dict = invert_dictionary(input_dict)\n",
    "\n",
    "# Print the inverted dictionary\n",
    "print(\"\\nInverted Dictionary:\")\n",
    "print(inverted_dict)\n"
   ]
  },
  {
   "cell_type": "code",
   "execution_count": 2,
   "metadata": {},
   "outputs": [
    {
     "name": "stdout",
     "output_type": "stream",
     "text": [
      "Inverted dictionary has been written to inverted_dict.txt\n"
     ]
    }
   ],
   "source": [
    "# Define the function to read the dictionary from a file and invert it\n",
    "def invert_dictionary(input_file, output_file):\n",
    "    try:\n",
    "        # Open the input file in read mode\n",
    "        with open(input_file, 'r') as file:\n",
    "            # Read the content of the file\n",
    "            content = file.read()\n",
    "            # Evaluate the content as a dictionary\n",
    "            original_dict = eval(content)\n",
    "            \n",
    "            # Create an empty dictionary to store the inverted dictionary\n",
    "            inverted_dict = {}\n",
    "            \n",
    "            # Iterate through the items in the original dictionary\n",
    "            for key, value in original_dict.items():\n",
    "                # Check if the value exists in the inverted dictionary\n",
    "                if value in inverted_dict:\n",
    "                    # If the value exists, append the key to the list of keys for that value\n",
    "                    inverted_dict[value].append(key)\n",
    "                else:\n",
    "                    # If the value does not exist, create a new entry with the value as key and the key as the first item in the list\n",
    "                    inverted_dict[value] = [key]\n",
    "            \n",
    "            # Open the output file in write mode\n",
    "            with open(output_file, 'w') as output:\n",
    "                # Write the inverted dictionary to the output file\n",
    "                output.write(str(inverted_dict))\n",
    "            print(\"Inverted dictionary has been written to\", output_file)\n",
    "    except FileNotFoundError:\n",
    "        print(\"File not found or does not exist.\")\n",
    "    except Exception as e:\n",
    "        print(\"An error occurred:\", e)\n",
    "\n",
    "# Input and output file paths\n",
    "input_file = r\"C:\\Users\\PC\\Desktop\\remi\\sample.txt\"\n",
    "output_file = \"inverted_dict.txt\"\n",
    "\n",
    "# Call the function to invert the dictionary\n",
    "invert_dictionary(input_file, output_file)\n"
   ]
  },
  {
   "cell_type": "code",
   "execution_count": 3,
   "metadata": {},
   "outputs": [
    {
     "name": "stdout",
     "output_type": "stream",
     "text": [
      "Inverted dictionary has been written to inverted_dict.txt\n"
     ]
    }
   ],
   "source": [
    "# Define the function to read the dictionary from a file and invert it\n",
    "def invert_dictionary(input_file, output_file):\n",
    "    try:\n",
    "        # Open the input file in read mode\n",
    "        with open(input_file, 'r') as file:\n",
    "            # Read the content of the file\n",
    "            content = file.read()\n",
    "            # Evaluate the content as a dictionary\n",
    "            original_dict = eval(content)\n",
    "            \n",
    "            # Create an empty dictionary to store the inverted dictionary\n",
    "            inverted_dict = {}\n",
    "            \n",
    "            # Iterate through the items in the original dictionary\n",
    "            for key, value in original_dict.items():\n",
    "                # Split the value by comma if it contains multiple values\n",
    "                values = [v.strip() for v in value.split(',')]\n",
    "                # Iterate through each value\n",
    "                for v in values:\n",
    "                    # Check if the value exists in the inverted dictionary\n",
    "                    if v in inverted_dict:\n",
    "                        # If the value exists, append the key to the list of keys for that value\n",
    "                        inverted_dict[v].append(key)\n",
    "                    else:\n",
    "                        # If the value does not exist, create a new entry with the value as key and the key as the first item in the list\n",
    "                        inverted_dict[v] = [key]\n",
    "            \n",
    "            # Open the output file in write mode\n",
    "            with open(output_file, 'w') as output:\n",
    "                # Write the inverted dictionary to the output file\n",
    "                output.write(\"{\\n\")\n",
    "                for key, values in inverted_dict.items():\n",
    "                    output.write(f'  {key}: {\", \".join(values)}\\n')\n",
    "                output.write(\"}\\n\")\n",
    "            print(\"Inverted dictionary has been written to\", output_file)\n",
    "    except FileNotFoundError:\n",
    "        print(\"File not found or does not exist.\")\n",
    "    except Exception as e:\n",
    "        print(\"An error occurred:\", e)\n",
    "\n",
    "# Input and output file paths\n",
    "input_file = r\"C:\\Users\\PC\\Desktop\\remi\\sample.txt\"\n",
    "output_file = \"inverted_dict.txt\"\n",
    "\n",
    "# Call the function to invert the dictionary\n",
    "invert_dictionary(input_file, output_file)\n"
   ]
  }
 ],
 "metadata": {
  "kernelspec": {
   "display_name": "Python 3",
   "language": "python",
   "name": "python3"
  },
  "language_info": {
   "codemirror_mode": {
    "name": "ipython",
    "version": 3
   },
   "file_extension": ".py",
   "mimetype": "text/x-python",
   "name": "python",
   "nbconvert_exporter": "python",
   "pygments_lexer": "ipython3",
   "version": "3.12.2"
  }
 },
 "nbformat": 4,
 "nbformat_minor": 2
}
